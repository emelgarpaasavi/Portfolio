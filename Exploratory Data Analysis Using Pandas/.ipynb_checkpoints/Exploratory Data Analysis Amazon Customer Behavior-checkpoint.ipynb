{
 "cells": [
  {
   "cell_type": "markdown",
   "id": "b9d4b314",
   "metadata": {},
   "source": [
    "Dataset source: https://www.kaggle.com/datasets/swathiunnikrishnan/amazon-consumer-behaviour-dataset/data\n",
    "\n",
    "The data contains the following fields:\n",
    "- `Timestamp`: YYYY-MM-DD HH:MM:SS\n",
    "- `age`: Age\n",
    "- `Gender`: Gender\n",
    "- `Purchase_Frequency`: How frequent they buy on Amazon\n",
    "- `Purchase_Categories`: Categories they typically buy on Amazon\n",
    "- `Personalized_Recommendation_Frequency`: *How frequent they buy personalized product recommendations by Amazon\n",
    "- `Browsing_Frequency`: How often do they browse the Amazon web/app\n",
    "- `Product_Search_Method`: What method they've used to find the product\n",
    "- `Search_Result_Exploration`: Do they only focus on the first page or go through multiple page results\n",
    "- `Customer_Reviews_Importance`: How important are customer reviews for their buying decision\n",
    "- `Add_to_Cart_Browsing`: Do they add products to cart while browsing\n",
    "- `Cart_Completion_Frequency`: How frequent do they buy the products they add to cart\n",
    "- `Cart_Abandonment_Factors`: What made them abandon a purchase in their carts\n",
    "- `Saveforlater_Frequency`: How often do they use the 'Save for later' Amazon feature\n",
    "- `Review_Left`: Do they leave a product review on Amazon\n",
    "- `Review_Reliability`: How heavy do they rely on product reviews for their buying decision\n",
    "- `Review_Helpfulness`: Do they find customer reviews helpful\n",
    "- `Personalized_Recommendation_Frequency`: How many times do they receive personalized product recommendations by Amazon\n",
    "- `Recommendation_Helpfulness`: Do they find personalized recommendations by Amazon helpful\n",
    "- `Rating_Accuracy`: Rating on how relevant these personalized recommendations are\n",
    "- `Shopping_Satisfaction`: Rating on their overall shopping experience on Amazon\n",
    "- `Service_Appreciation`: What do they enjoy about Amazon's services\n",
    "- `Improvement_Areas`: What areas do they think Amazon should improve\n",
    "\n",
    "Objective:\n",
    "- Here, customer insights are obtained by analyzing the behaviour of Amazon customers. "
   ]
  },
  {
   "cell_type": "markdown",
   "id": "8eddef32",
   "metadata": {},
   "source": [
    "Import pandas and numpy"
   ]
  },
  {
   "cell_type": "code",
   "execution_count": 1,
   "id": "cdc8d767",
   "metadata": {},
   "outputs": [],
   "source": [
    "import pandas as pd\n",
    "import numpy as np"
   ]
  },
  {
   "cell_type": "markdown",
   "id": "1fc260fe",
   "metadata": {},
   "source": [
    "Import visualization libraries and set %matplotlib inline"
   ]
  },
  {
   "cell_type": "code",
   "execution_count": 2,
   "id": "28795939",
   "metadata": {},
   "outputs": [],
   "source": [
    "import matplotlib.pyplot as plt\n",
    "import seaborn as sns\n",
    "# allows matplotlib graphs in jupyter notebook\n",
    "%matplotlib inline"
   ]
  },
  {
   "cell_type": "markdown",
   "id": "7e0a1047",
   "metadata": {},
   "source": [
    "Read in csv file as a dataframe called df"
   ]
  },
  {
   "cell_type": "code",
   "execution_count": 3,
   "id": "82eabb04",
   "metadata": {},
   "outputs": [],
   "source": [
    "df = pd.read_csv('Amazon Customer Behavior Survey.csv')"
   ]
  },
  {
   "cell_type": "markdown",
   "id": "0c0d6a94",
   "metadata": {},
   "source": [
    "Check info of df"
   ]
  },
  {
   "cell_type": "code",
   "execution_count": 4,
   "id": "5d9b0df7",
   "metadata": {
    "scrolled": false
   },
   "outputs": [
    {
     "name": "stdout",
     "output_type": "stream",
     "text": [
      "<class 'pandas.core.frame.DataFrame'>\n",
      "RangeIndex: 602 entries, 0 to 601\n",
      "Data columns (total 23 columns):\n",
      " #   Column                                  Non-Null Count  Dtype \n",
      "---  ------                                  --------------  ----- \n",
      " 0   Timestamp                               602 non-null    object\n",
      " 1   age                                     602 non-null    int64 \n",
      " 2   Gender                                  602 non-null    object\n",
      " 3   Purchase_Frequency                      602 non-null    object\n",
      " 4   Purchase_Categories                     602 non-null    object\n",
      " 5   Personalized_Recommendation_Frequency   602 non-null    object\n",
      " 6   Browsing_Frequency                      602 non-null    object\n",
      " 7   Product_Search_Method                   600 non-null    object\n",
      " 8   Search_Result_Exploration               602 non-null    object\n",
      " 9   Customer_Reviews_Importance             602 non-null    int64 \n",
      " 10  Add_to_Cart_Browsing                    602 non-null    object\n",
      " 11  Cart_Completion_Frequency               602 non-null    object\n",
      " 12  Cart_Abandonment_Factors                602 non-null    object\n",
      " 13  Saveforlater_Frequency                  602 non-null    object\n",
      " 14  Review_Left                             602 non-null    object\n",
      " 15  Review_Reliability                      602 non-null    object\n",
      " 16  Review_Helpfulness                      602 non-null    object\n",
      " 17  Personalized_Recommendation_Frequency   602 non-null    int64 \n",
      " 18  Recommendation_Helpfulness              602 non-null    object\n",
      " 19  Rating_Accuracy                         602 non-null    int64 \n",
      " 20  Shopping_Satisfaction                   602 non-null    int64 \n",
      " 21  Service_Appreciation                    602 non-null    object\n",
      " 22  Improvement_Areas                       602 non-null    object\n",
      "dtypes: int64(5), object(18)\n",
      "memory usage: 108.3+ KB\n"
     ]
    }
   ],
   "source": [
    "df.info()"
   ]
  },
  {
   "cell_type": "markdown",
   "id": "6bfaa6e5",
   "metadata": {},
   "source": [
    "*There are no null values found in the DataFrame.*"
   ]
  },
  {
   "cell_type": "markdown",
   "id": "ae101893",
   "metadata": {},
   "source": [
    "Check head of df"
   ]
  },
  {
   "cell_type": "code",
   "execution_count": 5,
   "id": "d0da2346",
   "metadata": {
    "scrolled": false
   },
   "outputs": [
    {
     "data": {
      "text/html": [
       "<div>\n",
       "<style scoped>\n",
       "    .dataframe tbody tr th:only-of-type {\n",
       "        vertical-align: middle;\n",
       "    }\n",
       "\n",
       "    .dataframe tbody tr th {\n",
       "        vertical-align: top;\n",
       "    }\n",
       "\n",
       "    .dataframe thead th {\n",
       "        text-align: right;\n",
       "    }\n",
       "</style>\n",
       "<table border=\"1\" class=\"dataframe\">\n",
       "  <thead>\n",
       "    <tr style=\"text-align: right;\">\n",
       "      <th></th>\n",
       "      <th>Timestamp</th>\n",
       "      <th>age</th>\n",
       "      <th>Gender</th>\n",
       "      <th>Purchase_Frequency</th>\n",
       "      <th>Purchase_Categories</th>\n",
       "      <th>Personalized_Recommendation_Frequency</th>\n",
       "      <th>Browsing_Frequency</th>\n",
       "      <th>Product_Search_Method</th>\n",
       "      <th>Search_Result_Exploration</th>\n",
       "      <th>Customer_Reviews_Importance</th>\n",
       "      <th>...</th>\n",
       "      <th>Saveforlater_Frequency</th>\n",
       "      <th>Review_Left</th>\n",
       "      <th>Review_Reliability</th>\n",
       "      <th>Review_Helpfulness</th>\n",
       "      <th>Personalized_Recommendation_Frequency</th>\n",
       "      <th>Recommendation_Helpfulness</th>\n",
       "      <th>Rating_Accuracy</th>\n",
       "      <th>Shopping_Satisfaction</th>\n",
       "      <th>Service_Appreciation</th>\n",
       "      <th>Improvement_Areas</th>\n",
       "    </tr>\n",
       "  </thead>\n",
       "  <tbody>\n",
       "    <tr>\n",
       "      <th>0</th>\n",
       "      <td>2023/06/04 1:28:19 PM GMT+5:30</td>\n",
       "      <td>23</td>\n",
       "      <td>Female</td>\n",
       "      <td>Few times a month</td>\n",
       "      <td>Beauty and Personal Care</td>\n",
       "      <td>Yes</td>\n",
       "      <td>Few times a week</td>\n",
       "      <td>Keyword</td>\n",
       "      <td>Multiple pages</td>\n",
       "      <td>1</td>\n",
       "      <td>...</td>\n",
       "      <td>Sometimes</td>\n",
       "      <td>Yes</td>\n",
       "      <td>Occasionally</td>\n",
       "      <td>Yes</td>\n",
       "      <td>2</td>\n",
       "      <td>Yes</td>\n",
       "      <td>1</td>\n",
       "      <td>1</td>\n",
       "      <td>Competitive prices</td>\n",
       "      <td>Reducing packaging waste</td>\n",
       "    </tr>\n",
       "    <tr>\n",
       "      <th>1</th>\n",
       "      <td>2023/06/04 2:30:44 PM GMT+5:30</td>\n",
       "      <td>23</td>\n",
       "      <td>Female</td>\n",
       "      <td>Once a month</td>\n",
       "      <td>Clothing and Fashion</td>\n",
       "      <td>Yes</td>\n",
       "      <td>Few times a month</td>\n",
       "      <td>Keyword</td>\n",
       "      <td>Multiple pages</td>\n",
       "      <td>1</td>\n",
       "      <td>...</td>\n",
       "      <td>Rarely</td>\n",
       "      <td>No</td>\n",
       "      <td>Heavily</td>\n",
       "      <td>Yes</td>\n",
       "      <td>2</td>\n",
       "      <td>Sometimes</td>\n",
       "      <td>3</td>\n",
       "      <td>2</td>\n",
       "      <td>Wide product selection</td>\n",
       "      <td>Reducing packaging waste</td>\n",
       "    </tr>\n",
       "    <tr>\n",
       "      <th>2</th>\n",
       "      <td>2023/06/04 5:04:56 PM GMT+5:30</td>\n",
       "      <td>24</td>\n",
       "      <td>Prefer not to say</td>\n",
       "      <td>Few times a month</td>\n",
       "      <td>Groceries and Gourmet Food;Clothing and Fashion</td>\n",
       "      <td>No</td>\n",
       "      <td>Few times a month</td>\n",
       "      <td>Keyword</td>\n",
       "      <td>Multiple pages</td>\n",
       "      <td>2</td>\n",
       "      <td>...</td>\n",
       "      <td>Rarely</td>\n",
       "      <td>No</td>\n",
       "      <td>Occasionally</td>\n",
       "      <td>No</td>\n",
       "      <td>4</td>\n",
       "      <td>No</td>\n",
       "      <td>3</td>\n",
       "      <td>3</td>\n",
       "      <td>Competitive prices</td>\n",
       "      <td>Product quality and accuracy</td>\n",
       "    </tr>\n",
       "    <tr>\n",
       "      <th>3</th>\n",
       "      <td>2023/06/04 5:13:00 PM GMT+5:30</td>\n",
       "      <td>24</td>\n",
       "      <td>Female</td>\n",
       "      <td>Once a month</td>\n",
       "      <td>Beauty and Personal Care;Clothing and Fashion;...</td>\n",
       "      <td>Sometimes</td>\n",
       "      <td>Few times a month</td>\n",
       "      <td>Keyword</td>\n",
       "      <td>First page</td>\n",
       "      <td>5</td>\n",
       "      <td>...</td>\n",
       "      <td>Sometimes</td>\n",
       "      <td>Yes</td>\n",
       "      <td>Heavily</td>\n",
       "      <td>Yes</td>\n",
       "      <td>3</td>\n",
       "      <td>Sometimes</td>\n",
       "      <td>3</td>\n",
       "      <td>4</td>\n",
       "      <td>Competitive prices</td>\n",
       "      <td>Product quality and accuracy</td>\n",
       "    </tr>\n",
       "    <tr>\n",
       "      <th>4</th>\n",
       "      <td>2023/06/04 5:28:06 PM GMT+5:30</td>\n",
       "      <td>22</td>\n",
       "      <td>Female</td>\n",
       "      <td>Less than once a month</td>\n",
       "      <td>Beauty and Personal Care;Clothing and Fashion</td>\n",
       "      <td>Yes</td>\n",
       "      <td>Few times a month</td>\n",
       "      <td>Filter</td>\n",
       "      <td>Multiple pages</td>\n",
       "      <td>1</td>\n",
       "      <td>...</td>\n",
       "      <td>Rarely</td>\n",
       "      <td>No</td>\n",
       "      <td>Heavily</td>\n",
       "      <td>Yes</td>\n",
       "      <td>4</td>\n",
       "      <td>Yes</td>\n",
       "      <td>2</td>\n",
       "      <td>2</td>\n",
       "      <td>Competitive prices</td>\n",
       "      <td>Product quality and accuracy</td>\n",
       "    </tr>\n",
       "  </tbody>\n",
       "</table>\n",
       "<p>5 rows × 23 columns</p>\n",
       "</div>"
      ],
      "text/plain": [
       "                        Timestamp  age             Gender  \\\n",
       "0  2023/06/04 1:28:19 PM GMT+5:30   23             Female   \n",
       "1  2023/06/04 2:30:44 PM GMT+5:30   23             Female   \n",
       "2  2023/06/04 5:04:56 PM GMT+5:30   24  Prefer not to say   \n",
       "3  2023/06/04 5:13:00 PM GMT+5:30   24             Female   \n",
       "4  2023/06/04 5:28:06 PM GMT+5:30   22             Female   \n",
       "\n",
       "       Purchase_Frequency                                Purchase_Categories  \\\n",
       "0       Few times a month                           Beauty and Personal Care   \n",
       "1            Once a month                               Clothing and Fashion   \n",
       "2       Few times a month    Groceries and Gourmet Food;Clothing and Fashion   \n",
       "3            Once a month  Beauty and Personal Care;Clothing and Fashion;...   \n",
       "4  Less than once a month      Beauty and Personal Care;Clothing and Fashion   \n",
       "\n",
       "  Personalized_Recommendation_Frequency Browsing_Frequency  \\\n",
       "0                                   Yes   Few times a week   \n",
       "1                                   Yes  Few times a month   \n",
       "2                                    No  Few times a month   \n",
       "3                             Sometimes  Few times a month   \n",
       "4                                   Yes  Few times a month   \n",
       "\n",
       "  Product_Search_Method Search_Result_Exploration  \\\n",
       "0               Keyword            Multiple pages   \n",
       "1               Keyword            Multiple pages   \n",
       "2               Keyword            Multiple pages   \n",
       "3               Keyword                First page   \n",
       "4                Filter            Multiple pages   \n",
       "\n",
       "   Customer_Reviews_Importance  ... Saveforlater_Frequency Review_Left  \\\n",
       "0                            1  ...              Sometimes         Yes   \n",
       "1                            1  ...                 Rarely          No   \n",
       "2                            2  ...                 Rarely          No   \n",
       "3                            5  ...              Sometimes         Yes   \n",
       "4                            1  ...                 Rarely          No   \n",
       "\n",
       "  Review_Reliability Review_Helpfulness  \\\n",
       "0       Occasionally                Yes   \n",
       "1            Heavily                Yes   \n",
       "2       Occasionally                 No   \n",
       "3            Heavily                Yes   \n",
       "4            Heavily                Yes   \n",
       "\n",
       "  Personalized_Recommendation_Frequency  Recommendation_Helpfulness  \\\n",
       "0                                      2                        Yes   \n",
       "1                                      2                  Sometimes   \n",
       "2                                      4                         No   \n",
       "3                                      3                  Sometimes   \n",
       "4                                      4                        Yes   \n",
       "\n",
       "  Rating_Accuracy   Shopping_Satisfaction    Service_Appreciation  \\\n",
       "0                1                      1      Competitive prices   \n",
       "1                3                      2  Wide product selection   \n",
       "2                3                      3      Competitive prices   \n",
       "3                3                      4      Competitive prices   \n",
       "4                2                      2      Competitive prices   \n",
       "\n",
       "              Improvement_Areas  \n",
       "0      Reducing packaging waste  \n",
       "1      Reducing packaging waste  \n",
       "2  Product quality and accuracy  \n",
       "3  Product quality and accuracy  \n",
       "4  Product quality and accuracy  \n",
       "\n",
       "[5 rows x 23 columns]"
      ]
     },
     "execution_count": 5,
     "metadata": {},
     "output_type": "execute_result"
    }
   ],
   "source": [
    "df.head()"
   ]
  },
  {
   "cell_type": "markdown",
   "id": "12c5e992",
   "metadata": {},
   "source": [
    "## Data Exploration"
   ]
  },
  {
   "cell_type": "markdown",
   "id": "eda3d32e",
   "metadata": {},
   "source": [
    "What are the top five purchase categories that Amazon shoppers typically buy?"
   ]
  },
  {
   "cell_type": "code",
   "execution_count": 6,
   "id": "cd68c680",
   "metadata": {},
   "outputs": [
    {
     "name": "stdout",
     "output_type": "stream",
     "text": [
      "Beauty and Personal Care                                          106\n",
      "Clothing and Fashion                                              106\n",
      "others                                                             48\n",
      "Beauty and Personal Care;Clothing and Fashion                      46\n",
      "Beauty and Personal Care;Clothing and Fashion;Home and Kitchen     42\n",
      "Name: Purchase_Categories, dtype: int64\n"
     ]
    }
   ],
   "source": [
    "print(df['Purchase_Categories'].value_counts().head())"
   ]
  },
  {
   "cell_type": "markdown",
   "id": "53bf1747",
   "metadata": {},
   "source": [
    "*Beauty and Personal Care and Clothing and Fashion topped the purchase categories that Amazon shoppers typically buy.\n",
    "Apart from the ones who responded with 'others', it is also noted that other categories in the top 5 contains Beauty and Personal Care and Clothing and Fashion. So these categories must be popular with Amazon shoppers.*"
   ]
  },
  {
   "cell_type": "markdown",
   "id": "0cbbfcd3",
   "metadata": {},
   "source": [
    "What are the top five age groups that took part in the survey?"
   ]
  },
  {
   "cell_type": "code",
   "execution_count": 7,
   "id": "dad107c6",
   "metadata": {},
   "outputs": [
    {
     "name": "stdout",
     "output_type": "stream",
     "text": [
      "23    123\n",
      "34     48\n",
      "24     40\n",
      "25     36\n",
      "45     34\n",
      "Name: age, dtype: int64\n"
     ]
    }
   ],
   "source": [
    "print(df['age'].value_counts().head())"
   ]
  },
  {
   "cell_type": "markdown",
   "id": "a63c335c",
   "metadata": {},
   "source": [
    "*Young adults topped the list, with those aged 23 to 34 in the top four, followed by middle-aged adults.*"
   ]
  },
  {
   "cell_type": "markdown",
   "id": "d5ef3ca0",
   "metadata": {},
   "source": [
    "How many unique ages are there?"
   ]
  },
  {
   "cell_type": "code",
   "execution_count": 8,
   "id": "d0e8c40f",
   "metadata": {},
   "outputs": [
    {
     "name": "stdout",
     "output_type": "stream",
     "text": [
      "50\n"
     ]
    }
   ],
   "source": [
    "print(df['age'].nunique())"
   ]
  },
  {
   "cell_type": "markdown",
   "id": "66e02ca3",
   "metadata": {},
   "source": [
    "*50 unique ages participated in the survey.*"
   ]
  },
  {
   "cell_type": "markdown",
   "id": "60f6b506",
   "metadata": {},
   "source": [
    "Which gender participated the most in the survey? Create a countplot."
   ]
  },
  {
   "cell_type": "code",
   "execution_count": 9,
   "id": "9ba1fa37",
   "metadata": {},
   "outputs": [
    {
     "data": {
      "image/png": "[encoded data removed]",
      "text/plain": [
       "<Figure size 640x480 with 1 Axes>"
      ]
     },
     "metadata": {},
     "output_type": "display_data"
    }
   ],
   "source": [
    "ax = sns.countplot(x='Gender', data=df, palette='viridis')\n",
    "plt.show()"
   ]
  },
  {
   "cell_type": "markdown",
   "id": "136f865b",
   "metadata": {},
   "source": [
    "*Females participated the most with 352 respondents, followed by males with 142.*"
   ]
  },
  {
   "cell_type": "markdown",
   "id": "16632651",
   "metadata": {},
   "source": [
    "How do the genders compare in terms of browsing frequency? Create a countplot with normalized y axis per group."
   ]
  },
  {
   "cell_type": "code",
   "execution_count": 10,
   "id": "41335de3",
   "metadata": {},
   "outputs": [
    {
     "data": {
      "image/png": "[encoded data removed]",
      "text/plain": [
       "<Figure size 1065.38x600 with 1 Axes>"
      ]
     },
     "metadata": {},
     "output_type": "display_data"
    }
   ],
   "source": [
    "# Group values by Browsing_Frequency with gender as its index\n",
    "# Normalize is set to true to return relative frequencies of each unique values\n",
    "bf = df.groupby('Browsing_Frequency')['Gender'].value_counts(normalize=True)\n",
    "# Multiply each relative value_counts by 100\n",
    "bf = bf.mul(100)\n",
    "# Since 'Gender' already exists, a new column could not be added,\n",
    "# In order to add the percentage values, rename the column to percent, \n",
    "# Used reset_index() to set a new index (numerical)\n",
    "bf = bf.rename('Percent').reset_index()\n",
    "\n",
    "ax = sns.catplot(x='Browsing_Frequency', y='Percent', \n",
    "            hue='Gender', kind='bar', \n",
    "            data=bf, palette='viridis', height=6, aspect=1.5).ax.set_ylim(0,100)\n",
    "plt.xlabel('Browsing Frequency')\n",
    "plt.show()"
   ]
  },
  {
   "cell_type": "markdown",
   "id": "9bdf73d4",
   "metadata": {},
   "source": [
    "*Based on the normalized countplot, females have the most interactions with the Amazon web/app, as they topped all of the browsing frequency groups, including 'Rarely'; this is the only group in which males have a smaller gap with the females in terms of browsing frequency.*"
   ]
  },
  {
   "cell_type": "markdown",
   "id": "98c6b04d",
   "metadata": {},
   "source": [
    "How does Amazon fare in terms of shopping satisfaction? \n",
    "Create a countplot."
   ]
  },
  {
   "cell_type": "code",
   "execution_count": 11,
   "id": "8b2e8587",
   "metadata": {},
   "outputs": [
    {
     "data": {
      "image/png": "[encoded data removed]",
      "text/plain": [
       "<Figure size 640x480 with 1 Axes>"
      ]
     },
     "metadata": {},
     "output_type": "display_data"
    }
   ],
   "source": [
    "sns.countplot(x='Shopping_Satisfaction', data=df, palette='viridis')\n",
    "plt.show()"
   ]
  },
  {
   "cell_type": "markdown",
   "id": "c1a77ee5",
   "metadata": {},
   "source": [
    "*Based on the countplot, we could tell that the shopping satisfaction of Amazon customers tends to lean between 2-3 ratings. This means that Amazon's service needs more improvement.*"
   ]
  },
  {
   "cell_type": "markdown",
   "id": "9a45cac0",
   "metadata": {},
   "source": [
    "What do they enjoy the most about Amazon's services? Create a countplot"
   ]
  },
  {
   "cell_type": "code",
   "execution_count": 12,
   "id": "2a073341",
   "metadata": {},
   "outputs": [
    {
     "data": {
      "text/plain": [
       "<Axes: xlabel='Service_Appreciation', ylabel='count'>"
      ]
     },
     "execution_count": 12,
     "metadata": {},
     "output_type": "execute_result"
    },
    {
     "data": {
      "image/png": "[encoded data removed]",
      "text/plain": [
       "<Figure size 1000x500 with 1 Axes>"
      ]
     },
     "metadata": {},
     "output_type": "display_data"
    }
   ],
   "source": [
    "plt.figure(figsize=(10,5))\n",
    "plt.xticks(rotation=80)\n",
    "sns.countplot(x='Service_Appreciation', \n",
    "              data=df, \n",
    "              order=df['Service_Appreciation'].value_counts().index, \n",
    "              palette='viridis')"
   ]
  },
  {
   "cell_type": "markdown",
   "id": "f052648e",
   "metadata": {},
   "source": [
    "*Amazon customers liked Amazon's product recommendation, followed by Competitive prices, Wide product selection and User-friendly website/app interface. While customers don't consider customer service and quick delivery as Amazon's greatest services.*"
   ]
  },
  {
   "cell_type": "markdown",
   "id": "0b73c9b3",
   "metadata": {},
   "source": [
    "Group the dataframe by age and use count() for aggregation. Use head() to show the top 5 rows of the dataframe."
   ]
  },
  {
   "cell_type": "code",
   "execution_count": 13,
   "id": "424634a6",
   "metadata": {},
   "outputs": [
    {
     "data": {
      "text/html": [
       "<div>\n",
       "<style scoped>\n",
       "    .dataframe tbody tr th:only-of-type {\n",
       "        vertical-align: middle;\n",
       "    }\n",
       "\n",
       "    .dataframe tbody tr th {\n",
       "        vertical-align: top;\n",
       "    }\n",
       "\n",
       "    .dataframe thead th {\n",
       "        text-align: right;\n",
       "    }\n",
       "</style>\n",
       "<table border=\"1\" class=\"dataframe\">\n",
       "  <thead>\n",
       "    <tr style=\"text-align: right;\">\n",
       "      <th></th>\n",
       "      <th>Timestamp</th>\n",
       "      <th>Gender</th>\n",
       "      <th>Purchase_Frequency</th>\n",
       "      <th>Purchase_Categories</th>\n",
       "      <th>Personalized_Recommendation_Frequency</th>\n",
       "      <th>Browsing_Frequency</th>\n",
       "      <th>Product_Search_Method</th>\n",
       "      <th>Search_Result_Exploration</th>\n",
       "      <th>Customer_Reviews_Importance</th>\n",
       "      <th>Add_to_Cart_Browsing</th>\n",
       "      <th>...</th>\n",
       "      <th>Saveforlater_Frequency</th>\n",
       "      <th>Review_Left</th>\n",
       "      <th>Review_Reliability</th>\n",
       "      <th>Review_Helpfulness</th>\n",
       "      <th>Personalized_Recommendation_Frequency</th>\n",
       "      <th>Recommendation_Helpfulness</th>\n",
       "      <th>Rating_Accuracy</th>\n",
       "      <th>Shopping_Satisfaction</th>\n",
       "      <th>Service_Appreciation</th>\n",
       "      <th>Improvement_Areas</th>\n",
       "    </tr>\n",
       "    <tr>\n",
       "      <th>age</th>\n",
       "      <th></th>\n",
       "      <th></th>\n",
       "      <th></th>\n",
       "      <th></th>\n",
       "      <th></th>\n",
       "      <th></th>\n",
       "      <th></th>\n",
       "      <th></th>\n",
       "      <th></th>\n",
       "      <th></th>\n",
       "      <th></th>\n",
       "      <th></th>\n",
       "      <th></th>\n",
       "      <th></th>\n",
       "      <th></th>\n",
       "      <th></th>\n",
       "      <th></th>\n",
       "      <th></th>\n",
       "      <th></th>\n",
       "      <th></th>\n",
       "      <th></th>\n",
       "    </tr>\n",
       "  </thead>\n",
       "  <tbody>\n",
       "    <tr>\n",
       "      <th>3</th>\n",
       "      <td>1</td>\n",
       "      <td>1</td>\n",
       "      <td>1</td>\n",
       "      <td>1</td>\n",
       "      <td>1</td>\n",
       "      <td>1</td>\n",
       "      <td>1</td>\n",
       "      <td>1</td>\n",
       "      <td>1</td>\n",
       "      <td>1</td>\n",
       "      <td>...</td>\n",
       "      <td>1</td>\n",
       "      <td>1</td>\n",
       "      <td>1</td>\n",
       "      <td>1</td>\n",
       "      <td>1</td>\n",
       "      <td>1</td>\n",
       "      <td>1</td>\n",
       "      <td>1</td>\n",
       "      <td>1</td>\n",
       "      <td>1</td>\n",
       "    </tr>\n",
       "    <tr>\n",
       "      <th>12</th>\n",
       "      <td>1</td>\n",
       "      <td>1</td>\n",
       "      <td>1</td>\n",
       "      <td>1</td>\n",
       "      <td>1</td>\n",
       "      <td>1</td>\n",
       "      <td>1</td>\n",
       "      <td>1</td>\n",
       "      <td>1</td>\n",
       "      <td>1</td>\n",
       "      <td>...</td>\n",
       "      <td>1</td>\n",
       "      <td>1</td>\n",
       "      <td>1</td>\n",
       "      <td>1</td>\n",
       "      <td>1</td>\n",
       "      <td>1</td>\n",
       "      <td>1</td>\n",
       "      <td>1</td>\n",
       "      <td>1</td>\n",
       "      <td>1</td>\n",
       "    </tr>\n",
       "    <tr>\n",
       "      <th>15</th>\n",
       "      <td>2</td>\n",
       "      <td>2</td>\n",
       "      <td>2</td>\n",
       "      <td>2</td>\n",
       "      <td>2</td>\n",
       "      <td>2</td>\n",
       "      <td>2</td>\n",
       "      <td>2</td>\n",
       "      <td>2</td>\n",
       "      <td>2</td>\n",
       "      <td>...</td>\n",
       "      <td>2</td>\n",
       "      <td>2</td>\n",
       "      <td>2</td>\n",
       "      <td>2</td>\n",
       "      <td>2</td>\n",
       "      <td>2</td>\n",
       "      <td>2</td>\n",
       "      <td>2</td>\n",
       "      <td>2</td>\n",
       "      <td>2</td>\n",
       "    </tr>\n",
       "    <tr>\n",
       "      <th>16</th>\n",
       "      <td>5</td>\n",
       "      <td>5</td>\n",
       "      <td>5</td>\n",
       "      <td>5</td>\n",
       "      <td>5</td>\n",
       "      <td>5</td>\n",
       "      <td>5</td>\n",
       "      <td>5</td>\n",
       "      <td>5</td>\n",
       "      <td>5</td>\n",
       "      <td>...</td>\n",
       "      <td>5</td>\n",
       "      <td>5</td>\n",
       "      <td>5</td>\n",
       "      <td>5</td>\n",
       "      <td>5</td>\n",
       "      <td>5</td>\n",
       "      <td>5</td>\n",
       "      <td>5</td>\n",
       "      <td>5</td>\n",
       "      <td>5</td>\n",
       "    </tr>\n",
       "    <tr>\n",
       "      <th>17</th>\n",
       "      <td>4</td>\n",
       "      <td>4</td>\n",
       "      <td>4</td>\n",
       "      <td>4</td>\n",
       "      <td>4</td>\n",
       "      <td>4</td>\n",
       "      <td>4</td>\n",
       "      <td>4</td>\n",
       "      <td>4</td>\n",
       "      <td>4</td>\n",
       "      <td>...</td>\n",
       "      <td>4</td>\n",
       "      <td>4</td>\n",
       "      <td>4</td>\n",
       "      <td>4</td>\n",
       "      <td>4</td>\n",
       "      <td>4</td>\n",
       "      <td>4</td>\n",
       "      <td>4</td>\n",
       "      <td>4</td>\n",
       "      <td>4</td>\n",
       "    </tr>\n",
       "  </tbody>\n",
       "</table>\n",
       "<p>5 rows × 22 columns</p>\n",
       "</div>"
      ],
      "text/plain": [
       "     Timestamp  Gender  Purchase_Frequency  Purchase_Categories  \\\n",
       "age                                                               \n",
       "3            1       1                   1                    1   \n",
       "12           1       1                   1                    1   \n",
       "15           2       2                   2                    2   \n",
       "16           5       5                   5                    5   \n",
       "17           4       4                   4                    4   \n",
       "\n",
       "     Personalized_Recommendation_Frequency  Browsing_Frequency  \\\n",
       "age                                                              \n",
       "3                                        1                   1   \n",
       "12                                       1                   1   \n",
       "15                                       2                   2   \n",
       "16                                       5                   5   \n",
       "17                                       4                   4   \n",
       "\n",
       "     Product_Search_Method  Search_Result_Exploration  \\\n",
       "age                                                     \n",
       "3                        1                          1   \n",
       "12                       1                          1   \n",
       "15                       2                          2   \n",
       "16                       5                          5   \n",
       "17                       4                          4   \n",
       "\n",
       "     Customer_Reviews_Importance  Add_to_Cart_Browsing  ...  \\\n",
       "age                                                     ...   \n",
       "3                              1                     1  ...   \n",
       "12                             1                     1  ...   \n",
       "15                             2                     2  ...   \n",
       "16                             5                     5  ...   \n",
       "17                             4                     4  ...   \n",
       "\n",
       "     Saveforlater_Frequency  Review_Left  Review_Reliability  \\\n",
       "age                                                            \n",
       "3                         1            1                   1   \n",
       "12                        1            1                   1   \n",
       "15                        2            2                   2   \n",
       "16                        5            5                   5   \n",
       "17                        4            4                   4   \n",
       "\n",
       "     Review_Helpfulness  Personalized_Recommendation_Frequency   \\\n",
       "age                                                               \n",
       "3                     1                                       1   \n",
       "12                    1                                       1   \n",
       "15                    2                                       2   \n",
       "16                    5                                       5   \n",
       "17                    4                                       4   \n",
       "\n",
       "     Recommendation_Helpfulness  Rating_Accuracy   Shopping_Satisfaction  \\\n",
       "age                                                                        \n",
       "3                             1                 1                      1   \n",
       "12                            1                 1                      1   \n",
       "15                            2                 2                      2   \n",
       "16                            5                 5                      5   \n",
       "17                            4                 4                      4   \n",
       "\n",
       "     Service_Appreciation  Improvement_Areas  \n",
       "age                                           \n",
       "3                       1                  1  \n",
       "12                      1                  1  \n",
       "15                      2                  2  \n",
       "16                      5                  5  \n",
       "17                      4                  4  \n",
       "\n",
       "[5 rows x 22 columns]"
      ]
     },
     "metadata": {},
     "output_type": "display_data"
    }
   ],
   "source": [
    "age_group = df.groupby('age').count()\n",
    "display(age_group.head())"
   ]
  },
  {
   "cell_type": "markdown",
   "id": "7883bc92",
   "metadata": {},
   "source": [
    "Create a lineplot to show the number of respondents by age.\n",
    "\n",
    "Select a single column ('Timestamp') to get only one-dimentional information."
   ]
  },
  {
   "cell_type": "code",
   "execution_count": 14,
   "id": "b30475b1",
   "metadata": {},
   "outputs": [
    {
     "data": {
      "image/png": "[encoded data removed]",
      "text/plain": [
       "<Figure size 640x480 with 1 Axes>"
      ]
     },
     "metadata": {},
     "output_type": "display_data"
    }
   ],
   "source": [
    "ax = sns.lineplot(x='age', y=age_group['Timestamp'], data=age_group)\n",
    "ax.set(xlabel='Age', ylabel='Number of Respondents')\n",
    "plt.show()"
   ]
  },
  {
   "cell_type": "markdown",
   "id": "66d33c09",
   "metadata": {},
   "source": [
    "*Most respondents are young adults (ages 23-35), followed by middle-aged adults (see a peak at age 45).*"
   ]
  },
  {
   "cell_type": "markdown",
   "id": "5fa6918a",
   "metadata": {},
   "source": [
    "Check Cart Abandonment Factors. What is the most commonly stated reason for abandoning their cart purchases?\n",
    "Create a pie chart"
   ]
  },
  {
   "cell_type": "code",
   "execution_count": 15,
   "id": "846009a8",
   "metadata": {},
   "outputs": [
    {
     "data": {
      "image/png": "[encoded data removed]",
      "text/plain": [
       "<Figure size 640x480 with 1 Axes>"
      ]
     },
     "metadata": {},
     "output_type": "display_data"
    }
   ],
   "source": [
    "cart_count = df['Cart_Abandonment_Factors'].value_counts()\n",
    "def data_label(pct, data):\n",
    "    value = int(np.round((pct/100)*np.sum(data)))\n",
    "    return f\"{value} ({pct:.2f}%)\"\n",
    "plt.pie(x=cart_count.values, autopct=lambda pct: data_label(pct, cart_count.values))\n",
    "plt.legend(cart_count.index, \n",
    "           title='Reasons', \n",
    "           loc=\"center left\", \n",
    "           bbox_to_anchor=(1,0,0.5,1))\n",
    "plt.show()"
   ]
  },
  {
   "cell_type": "markdown",
   "id": "35e51c29",
   "metadata": {},
   "source": [
    "*The most commonly stated reason by an Amazon customer for abandoning their cart purchases is that they found a better price elsewhere (42.36%), followed by change of mind or they no longer need the item (40.03%), high shipping costs (11.63%) and others (5.98%).*"
   ]
  },
  {
   "cell_type": "markdown",
   "id": "54a846b7",
   "metadata": {},
   "source": [
    "In what areas do Amazon needs to improve? \n",
    "\n",
    "Get the main improvement areas (> 1%), if there are improvement areas that are < 1%, combine them together and label them 'Others' and create a piechart."
   ]
  },
  {
   "cell_type": "markdown",
   "id": "3e569906",
   "metadata": {},
   "source": [
    "First, check Improvement Areas that have more than 6 (1%) counts."
   ]
  },
  {
   "cell_type": "code",
   "execution_count": 16,
   "id": "5e86bdac",
   "metadata": {},
   "outputs": [
    {
     "name": "stdout",
     "output_type": "stream",
     "text": [
      "Customer service responsiveness                                                   217\n",
      "Product quality and accuracy                                                      159\n",
      "Reducing packaging waste                                                          133\n",
      "Shipping speed and reliability                                                     79\n",
      "Quality of product is very poor according to the big offers                         1\n",
      "I don't have any problem with Amazon                                                1\n",
      "User interface of app                                                               1\n",
      "Irrelevant product suggestions                                                      1\n",
      "User interface                                                                      1\n",
      "I have no problem with Amazon yet. But others tell me about the refund issues       1\n",
      "UI                                                                                  1\n",
      "Scrolling option would be much better than going to next page                       1\n",
      "Add more familiar brands to the list                                                1\n",
      "Nil                                                                                 1\n",
      "better app interface and lower shipping charges                                     1\n",
      "Nothing                                                                             1\n",
      ".                                                                                   1\n",
      "No problems with Amazon                                                             1\n",
      "Name: Improvement_Areas, dtype: int64\n"
     ]
    }
   ],
   "source": [
    "imprv_count = df['Improvement_Areas'].value_counts()\n",
    "print(imprv_count)"
   ]
  },
  {
   "cell_type": "markdown",
   "id": "9d629504",
   "metadata": {},
   "source": [
    "Customer service responsiveness, Product quality and accuracy, Reducing packaging waste and Shipping speed and reliability \n",
    "are the only improvement areas that have more than 6 (1%) counts.\n",
    "Store them into a list."
   ]
  },
  {
   "cell_type": "code",
   "execution_count": 17,
   "id": "e77f986b",
   "metadata": {},
   "outputs": [
    {
     "name": "stdout",
     "output_type": "stream",
     "text": [
      "['Customer service responsiveness', 'Product quality and accuracy', 'Reducing packaging waste', 'Shipping speed and reliability']\n"
     ]
    }
   ],
   "source": [
    "main_imprvmt_areas = [index for index, values in imprv_count.items() if values > 6]\n",
    "print(main_imprvmt_areas)"
   ]
  },
  {
   "cell_type": "markdown",
   "id": "5dc2539b",
   "metadata": {},
   "source": [
    "Now that we have a list (main_imprvmt_areas), let's create a new column named: 'Main_Improvement_Areas+Others'.\n",
    "\n",
    "Write 'Others' if the 'Improvement_Areas' value is not in the main_imprvmt_areas list or write main_imprvmt_areas values otherwise."
   ]
  },
  {
   "cell_type": "code",
   "execution_count": 18,
   "id": "ab767ca8",
   "metadata": {},
   "outputs": [
    {
     "data": {
      "text/html": [
       "<div>\n",
       "<style scoped>\n",
       "    .dataframe tbody tr th:only-of-type {\n",
       "        vertical-align: middle;\n",
       "    }\n",
       "\n",
       "    .dataframe tbody tr th {\n",
       "        vertical-align: top;\n",
       "    }\n",
       "\n",
       "    .dataframe thead th {\n",
       "        text-align: right;\n",
       "    }\n",
       "</style>\n",
       "<table border=\"1\" class=\"dataframe\">\n",
       "  <thead>\n",
       "    <tr style=\"text-align: right;\">\n",
       "      <th></th>\n",
       "      <th>Timestamp</th>\n",
       "      <th>age</th>\n",
       "      <th>Gender</th>\n",
       "      <th>Purchase_Frequency</th>\n",
       "      <th>Purchase_Categories</th>\n",
       "      <th>Personalized_Recommendation_Frequency</th>\n",
       "      <th>Browsing_Frequency</th>\n",
       "      <th>Product_Search_Method</th>\n",
       "      <th>Search_Result_Exploration</th>\n",
       "      <th>Customer_Reviews_Importance</th>\n",
       "      <th>...</th>\n",
       "      <th>Review_Left</th>\n",
       "      <th>Review_Reliability</th>\n",
       "      <th>Review_Helpfulness</th>\n",
       "      <th>Personalized_Recommendation_Frequency</th>\n",
       "      <th>Recommendation_Helpfulness</th>\n",
       "      <th>Rating_Accuracy</th>\n",
       "      <th>Shopping_Satisfaction</th>\n",
       "      <th>Service_Appreciation</th>\n",
       "      <th>Improvement_Areas</th>\n",
       "      <th>Main_Improvement_Areas+Others</th>\n",
       "    </tr>\n",
       "  </thead>\n",
       "  <tbody>\n",
       "    <tr>\n",
       "      <th>22</th>\n",
       "      <td>2023/06/04 8:54:36 PM GMT+5:30</td>\n",
       "      <td>21</td>\n",
       "      <td>Male</td>\n",
       "      <td>Less than once a month</td>\n",
       "      <td>others</td>\n",
       "      <td>No</td>\n",
       "      <td>Few times a week</td>\n",
       "      <td>others</td>\n",
       "      <td>Multiple pages</td>\n",
       "      <td>1</td>\n",
       "      <td>...</td>\n",
       "      <td>No</td>\n",
       "      <td>Never</td>\n",
       "      <td>Sometimes</td>\n",
       "      <td>3</td>\n",
       "      <td>Sometimes</td>\n",
       "      <td>3</td>\n",
       "      <td>3</td>\n",
       "      <td>.</td>\n",
       "      <td>.</td>\n",
       "      <td>Others</td>\n",
       "    </tr>\n",
       "    <tr>\n",
       "      <th>41</th>\n",
       "      <td>2023/06/05 12:36:02 AM GMT+5:30</td>\n",
       "      <td>32</td>\n",
       "      <td>Male</td>\n",
       "      <td>Less than once a month</td>\n",
       "      <td>others</td>\n",
       "      <td>No</td>\n",
       "      <td>Rarely</td>\n",
       "      <td>Keyword</td>\n",
       "      <td>First page</td>\n",
       "      <td>1</td>\n",
       "      <td>...</td>\n",
       "      <td>No</td>\n",
       "      <td>Moderately</td>\n",
       "      <td>Yes</td>\n",
       "      <td>1</td>\n",
       "      <td>No</td>\n",
       "      <td>4</td>\n",
       "      <td>1</td>\n",
       "      <td>Customer service</td>\n",
       "      <td>Nothing</td>\n",
       "      <td>Others</td>\n",
       "    </tr>\n",
       "    <tr>\n",
       "      <th>69</th>\n",
       "      <td>2023/06/05 2:21:37 PM GMT+5:30</td>\n",
       "      <td>23</td>\n",
       "      <td>Male</td>\n",
       "      <td>Less than once a month</td>\n",
       "      <td>others</td>\n",
       "      <td>No</td>\n",
       "      <td>Few times a month</td>\n",
       "      <td>Keyword</td>\n",
       "      <td>First page</td>\n",
       "      <td>1</td>\n",
       "      <td>...</td>\n",
       "      <td>No</td>\n",
       "      <td>Moderately</td>\n",
       "      <td>Sometimes</td>\n",
       "      <td>3</td>\n",
       "      <td>Sometimes</td>\n",
       "      <td>3</td>\n",
       "      <td>3</td>\n",
       "      <td>Wide product selection</td>\n",
       "      <td>better app interface and lower shipping charges</td>\n",
       "      <td>Others</td>\n",
       "    </tr>\n",
       "    <tr>\n",
       "      <th>156</th>\n",
       "      <td>2023/06/06 7:10:55 PM GMT+5:30</td>\n",
       "      <td>24</td>\n",
       "      <td>Male</td>\n",
       "      <td>Less than once a month</td>\n",
       "      <td>others</td>\n",
       "      <td>No</td>\n",
       "      <td>Few times a month</td>\n",
       "      <td>Keyword</td>\n",
       "      <td>Multiple pages</td>\n",
       "      <td>4</td>\n",
       "      <td>...</td>\n",
       "      <td>No</td>\n",
       "      <td>Occasionally</td>\n",
       "      <td>Yes</td>\n",
       "      <td>3</td>\n",
       "      <td>Yes</td>\n",
       "      <td>4</td>\n",
       "      <td>5</td>\n",
       "      <td>Wide product selection</td>\n",
       "      <td>Nil</td>\n",
       "      <td>Others</td>\n",
       "    </tr>\n",
       "    <tr>\n",
       "      <th>177</th>\n",
       "      <td>2023/06/06 7:46:27 PM GMT+5:30</td>\n",
       "      <td>26</td>\n",
       "      <td>Female</td>\n",
       "      <td>Multiple times a week</td>\n",
       "      <td>Groceries and Gourmet Food;Beauty and Personal...</td>\n",
       "      <td>Sometimes</td>\n",
       "      <td>Few times a week</td>\n",
       "      <td>Keyword</td>\n",
       "      <td>Multiple pages</td>\n",
       "      <td>1</td>\n",
       "      <td>...</td>\n",
       "      <td>Yes</td>\n",
       "      <td>Moderately</td>\n",
       "      <td>Yes</td>\n",
       "      <td>3</td>\n",
       "      <td>Sometimes</td>\n",
       "      <td>3</td>\n",
       "      <td>2</td>\n",
       "      <td>Competitive prices</td>\n",
       "      <td>Add more familiar brands to the list</td>\n",
       "      <td>Others</td>\n",
       "    </tr>\n",
       "    <tr>\n",
       "      <th>190</th>\n",
       "      <td>2023/06/07 6:09:58 AM GMT+5:30</td>\n",
       "      <td>23</td>\n",
       "      <td>Male</td>\n",
       "      <td>Once a month</td>\n",
       "      <td>Clothing and Fashion;others</td>\n",
       "      <td>No</td>\n",
       "      <td>Few times a month</td>\n",
       "      <td>Keyword</td>\n",
       "      <td>Multiple pages</td>\n",
       "      <td>1</td>\n",
       "      <td>...</td>\n",
       "      <td>Yes</td>\n",
       "      <td>Heavily</td>\n",
       "      <td>Yes</td>\n",
       "      <td>3</td>\n",
       "      <td>No</td>\n",
       "      <td>3</td>\n",
       "      <td>3</td>\n",
       "      <td>Competitive prices</td>\n",
       "      <td>UI</td>\n",
       "      <td>Others</td>\n",
       "    </tr>\n",
       "    <tr>\n",
       "      <th>207</th>\n",
       "      <td>2023/06/07 11:48:25 AM GMT+5:30</td>\n",
       "      <td>34</td>\n",
       "      <td>Male</td>\n",
       "      <td>Less than once a month</td>\n",
       "      <td>others</td>\n",
       "      <td>No</td>\n",
       "      <td>Rarely</td>\n",
       "      <td>Keyword</td>\n",
       "      <td>Multiple pages</td>\n",
       "      <td>2</td>\n",
       "      <td>...</td>\n",
       "      <td>Yes</td>\n",
       "      <td>Moderately</td>\n",
       "      <td>Sometimes</td>\n",
       "      <td>4</td>\n",
       "      <td>No</td>\n",
       "      <td>3</td>\n",
       "      <td>2</td>\n",
       "      <td>Wide product selection</td>\n",
       "      <td>Scrolling option would be much better than goi...</td>\n",
       "      <td>Others</td>\n",
       "    </tr>\n",
       "    <tr>\n",
       "      <th>218</th>\n",
       "      <td>2023/06/07 12:50:13 PM GMT+5:30</td>\n",
       "      <td>38</td>\n",
       "      <td>Male</td>\n",
       "      <td>Once a month</td>\n",
       "      <td>Beauty and Personal Care;Clothing and Fashion;...</td>\n",
       "      <td>Yes</td>\n",
       "      <td>Few times a week</td>\n",
       "      <td>categories</td>\n",
       "      <td>Multiple pages</td>\n",
       "      <td>1</td>\n",
       "      <td>...</td>\n",
       "      <td>No</td>\n",
       "      <td>Heavily</td>\n",
       "      <td>Yes</td>\n",
       "      <td>3</td>\n",
       "      <td>Sometimes</td>\n",
       "      <td>3</td>\n",
       "      <td>3</td>\n",
       "      <td>User-friendly website/app interface</td>\n",
       "      <td>Quality of product is very poor according to t...</td>\n",
       "      <td>Others</td>\n",
       "    </tr>\n",
       "    <tr>\n",
       "      <th>221</th>\n",
       "      <td>2023/06/07 1:04:07 PM GMT+5:30</td>\n",
       "      <td>49</td>\n",
       "      <td>Female</td>\n",
       "      <td>Few times a month</td>\n",
       "      <td>Groceries and Gourmet Food;Home and Kitchen;ot...</td>\n",
       "      <td>Sometimes</td>\n",
       "      <td>Multiple times a day</td>\n",
       "      <td>Keyword</td>\n",
       "      <td>Multiple pages</td>\n",
       "      <td>1</td>\n",
       "      <td>...</td>\n",
       "      <td>Yes</td>\n",
       "      <td>Heavily</td>\n",
       "      <td>Yes</td>\n",
       "      <td>3</td>\n",
       "      <td>Yes</td>\n",
       "      <td>3</td>\n",
       "      <td>2</td>\n",
       "      <td>Wide product selection</td>\n",
       "      <td>I have no problem with Amazon yet. But others ...</td>\n",
       "      <td>Others</td>\n",
       "    </tr>\n",
       "    <tr>\n",
       "      <th>280</th>\n",
       "      <td>2023/06/07 10:20:09 PM GMT+5:30</td>\n",
       "      <td>26</td>\n",
       "      <td>Male</td>\n",
       "      <td>Less than once a month</td>\n",
       "      <td>Clothing and Fashion</td>\n",
       "      <td>Yes</td>\n",
       "      <td>Few times a week</td>\n",
       "      <td>Keyword</td>\n",
       "      <td>Multiple pages</td>\n",
       "      <td>5</td>\n",
       "      <td>...</td>\n",
       "      <td>Yes</td>\n",
       "      <td>Never</td>\n",
       "      <td>Yes</td>\n",
       "      <td>3</td>\n",
       "      <td>Yes</td>\n",
       "      <td>1</td>\n",
       "      <td>3</td>\n",
       "      <td>Wide product selection</td>\n",
       "      <td>User interface</td>\n",
       "      <td>Others</td>\n",
       "    </tr>\n",
       "    <tr>\n",
       "      <th>284</th>\n",
       "      <td>2023/06/07 10:39:21 PM GMT+5:30</td>\n",
       "      <td>41</td>\n",
       "      <td>Male</td>\n",
       "      <td>Multiple times a week</td>\n",
       "      <td>Groceries and Gourmet Food;Beauty and Personal...</td>\n",
       "      <td>No</td>\n",
       "      <td>Multiple times a day</td>\n",
       "      <td>Keyword</td>\n",
       "      <td>Multiple pages</td>\n",
       "      <td>1</td>\n",
       "      <td>...</td>\n",
       "      <td>Yes</td>\n",
       "      <td>Heavily</td>\n",
       "      <td>Yes</td>\n",
       "      <td>3</td>\n",
       "      <td>Yes</td>\n",
       "      <td>3</td>\n",
       "      <td>4</td>\n",
       "      <td>Wide product selection</td>\n",
       "      <td>Irrelevant product suggestions</td>\n",
       "      <td>Others</td>\n",
       "    </tr>\n",
       "    <tr>\n",
       "      <th>319</th>\n",
       "      <td>2023/06/08 9:16:26 AM GMT+5:30</td>\n",
       "      <td>24</td>\n",
       "      <td>Female</td>\n",
       "      <td>Few times a month</td>\n",
       "      <td>Clothing and Fashion;Home and Kitchen</td>\n",
       "      <td>No</td>\n",
       "      <td>Few times a week</td>\n",
       "      <td>Keyword</td>\n",
       "      <td>Multiple pages</td>\n",
       "      <td>1</td>\n",
       "      <td>...</td>\n",
       "      <td>Yes</td>\n",
       "      <td>Heavily</td>\n",
       "      <td>Yes</td>\n",
       "      <td>3</td>\n",
       "      <td>Sometimes</td>\n",
       "      <td>3</td>\n",
       "      <td>2</td>\n",
       "      <td>Competitive prices</td>\n",
       "      <td>User interface of app</td>\n",
       "      <td>Others</td>\n",
       "    </tr>\n",
       "    <tr>\n",
       "      <th>371</th>\n",
       "      <td>2023/06/08 5:42:23 PM GMT+5:30</td>\n",
       "      <td>24</td>\n",
       "      <td>Prefer not to say</td>\n",
       "      <td>Few times a month</td>\n",
       "      <td>Beauty and Personal Care;Clothing and Fashion</td>\n",
       "      <td>Sometimes</td>\n",
       "      <td>Few times a week</td>\n",
       "      <td>Keyword</td>\n",
       "      <td>Multiple pages</td>\n",
       "      <td>5</td>\n",
       "      <td>...</td>\n",
       "      <td>No</td>\n",
       "      <td>Rarely</td>\n",
       "      <td>Sometimes</td>\n",
       "      <td>5</td>\n",
       "      <td>Sometimes</td>\n",
       "      <td>4</td>\n",
       "      <td>2</td>\n",
       "      <td>Competitive prices</td>\n",
       "      <td>I don't have any problem with Amazon</td>\n",
       "      <td>Others</td>\n",
       "    </tr>\n",
       "    <tr>\n",
       "      <th>378</th>\n",
       "      <td>2023/06/08 5:47:32 PM GMT+5:30</td>\n",
       "      <td>43</td>\n",
       "      <td>Prefer not to say</td>\n",
       "      <td>Less than once a month</td>\n",
       "      <td>Groceries and Gourmet Food;Home and Kitchen;ot...</td>\n",
       "      <td>Sometimes</td>\n",
       "      <td>Rarely</td>\n",
       "      <td>Keyword</td>\n",
       "      <td>Multiple pages</td>\n",
       "      <td>1</td>\n",
       "      <td>...</td>\n",
       "      <td>No</td>\n",
       "      <td>Heavily</td>\n",
       "      <td>Yes</td>\n",
       "      <td>1</td>\n",
       "      <td>Sometimes</td>\n",
       "      <td>3</td>\n",
       "      <td>1</td>\n",
       "      <td>Competitive prices</td>\n",
       "      <td>No problems with Amazon</td>\n",
       "      <td>Others</td>\n",
       "    </tr>\n",
       "  </tbody>\n",
       "</table>\n",
       "<p>14 rows × 24 columns</p>\n",
       "</div>"
      ],
      "text/plain": [
       "                           Timestamp  age             Gender  \\\n",
       "22    2023/06/04 8:54:36 PM GMT+5:30   21               Male   \n",
       "41   2023/06/05 12:36:02 AM GMT+5:30   32               Male   \n",
       "69    2023/06/05 2:21:37 PM GMT+5:30   23               Male   \n",
       "156   2023/06/06 7:10:55 PM GMT+5:30   24               Male   \n",
       "177   2023/06/06 7:46:27 PM GMT+5:30   26             Female   \n",
       "190   2023/06/07 6:09:58 AM GMT+5:30   23               Male   \n",
       "207  2023/06/07 11:48:25 AM GMT+5:30   34               Male   \n",
       "218  2023/06/07 12:50:13 PM GMT+5:30   38               Male   \n",
       "221   2023/06/07 1:04:07 PM GMT+5:30   49             Female   \n",
       "280  2023/06/07 10:20:09 PM GMT+5:30   26               Male   \n",
       "284  2023/06/07 10:39:21 PM GMT+5:30   41               Male   \n",
       "319   2023/06/08 9:16:26 AM GMT+5:30   24             Female   \n",
       "371   2023/06/08 5:42:23 PM GMT+5:30   24  Prefer not to say   \n",
       "378   2023/06/08 5:47:32 PM GMT+5:30   43  Prefer not to say   \n",
       "\n",
       "         Purchase_Frequency  \\\n",
       "22   Less than once a month   \n",
       "41   Less than once a month   \n",
       "69   Less than once a month   \n",
       "156  Less than once a month   \n",
       "177   Multiple times a week   \n",
       "190            Once a month   \n",
       "207  Less than once a month   \n",
       "218            Once a month   \n",
       "221       Few times a month   \n",
       "280  Less than once a month   \n",
       "284   Multiple times a week   \n",
       "319       Few times a month   \n",
       "371       Few times a month   \n",
       "378  Less than once a month   \n",
       "\n",
       "                                   Purchase_Categories  \\\n",
       "22                                              others   \n",
       "41                                              others   \n",
       "69                                              others   \n",
       "156                                             others   \n",
       "177  Groceries and Gourmet Food;Beauty and Personal...   \n",
       "190                        Clothing and Fashion;others   \n",
       "207                                             others   \n",
       "218  Beauty and Personal Care;Clothing and Fashion;...   \n",
       "221  Groceries and Gourmet Food;Home and Kitchen;ot...   \n",
       "280                               Clothing and Fashion   \n",
       "284  Groceries and Gourmet Food;Beauty and Personal...   \n",
       "319              Clothing and Fashion;Home and Kitchen   \n",
       "371      Beauty and Personal Care;Clothing and Fashion   \n",
       "378  Groceries and Gourmet Food;Home and Kitchen;ot...   \n",
       "\n",
       "    Personalized_Recommendation_Frequency    Browsing_Frequency  \\\n",
       "22                                     No      Few times a week   \n",
       "41                                     No                Rarely   \n",
       "69                                     No     Few times a month   \n",
       "156                                    No     Few times a month   \n",
       "177                             Sometimes      Few times a week   \n",
       "190                                    No     Few times a month   \n",
       "207                                    No                Rarely   \n",
       "218                                   Yes      Few times a week   \n",
       "221                             Sometimes  Multiple times a day   \n",
       "280                                   Yes      Few times a week   \n",
       "284                                    No  Multiple times a day   \n",
       "319                                    No      Few times a week   \n",
       "371                             Sometimes      Few times a week   \n",
       "378                             Sometimes                Rarely   \n",
       "\n",
       "    Product_Search_Method Search_Result_Exploration  \\\n",
       "22                 others            Multiple pages   \n",
       "41                Keyword                First page   \n",
       "69                Keyword                First page   \n",
       "156               Keyword            Multiple pages   \n",
       "177               Keyword            Multiple pages   \n",
       "190               Keyword            Multiple pages   \n",
       "207               Keyword            Multiple pages   \n",
       "218            categories            Multiple pages   \n",
       "221               Keyword            Multiple pages   \n",
       "280               Keyword            Multiple pages   \n",
       "284               Keyword            Multiple pages   \n",
       "319               Keyword            Multiple pages   \n",
       "371               Keyword            Multiple pages   \n",
       "378               Keyword            Multiple pages   \n",
       "\n",
       "     Customer_Reviews_Importance  ... Review_Left Review_Reliability  \\\n",
       "22                             1  ...          No              Never   \n",
       "41                             1  ...          No         Moderately   \n",
       "69                             1  ...          No         Moderately   \n",
       "156                            4  ...          No       Occasionally   \n",
       "177                            1  ...         Yes         Moderately   \n",
       "190                            1  ...         Yes            Heavily   \n",
       "207                            2  ...         Yes         Moderately   \n",
       "218                            1  ...          No            Heavily   \n",
       "221                            1  ...         Yes            Heavily   \n",
       "280                            5  ...         Yes              Never   \n",
       "284                            1  ...         Yes            Heavily   \n",
       "319                            1  ...         Yes            Heavily   \n",
       "371                            5  ...          No             Rarely   \n",
       "378                            1  ...          No            Heavily   \n",
       "\n",
       "    Review_Helpfulness Personalized_Recommendation_Frequency   \\\n",
       "22           Sometimes                                      3   \n",
       "41                 Yes                                      1   \n",
       "69           Sometimes                                      3   \n",
       "156                Yes                                      3   \n",
       "177                Yes                                      3   \n",
       "190                Yes                                      3   \n",
       "207          Sometimes                                      4   \n",
       "218                Yes                                      3   \n",
       "221                Yes                                      3   \n",
       "280                Yes                                      3   \n",
       "284                Yes                                      3   \n",
       "319                Yes                                      3   \n",
       "371          Sometimes                                      5   \n",
       "378                Yes                                      1   \n",
       "\n",
       "    Recommendation_Helpfulness Rating_Accuracy  Shopping_Satisfaction  \\\n",
       "22                   Sometimes                3                     3   \n",
       "41                          No                4                     1   \n",
       "69                   Sometimes                3                     3   \n",
       "156                        Yes                4                     5   \n",
       "177                  Sometimes                3                     2   \n",
       "190                         No                3                     3   \n",
       "207                         No                3                     2   \n",
       "218                  Sometimes                3                     3   \n",
       "221                        Yes                3                     2   \n",
       "280                        Yes                1                     3   \n",
       "284                        Yes                3                     4   \n",
       "319                  Sometimes                3                     2   \n",
       "371                  Sometimes                4                     2   \n",
       "378                  Sometimes                3                     1   \n",
       "\n",
       "                    Service_Appreciation  \\\n",
       "22                                     .   \n",
       "41                      Customer service   \n",
       "69                Wide product selection   \n",
       "156               Wide product selection   \n",
       "177                   Competitive prices   \n",
       "190                   Competitive prices   \n",
       "207               Wide product selection   \n",
       "218  User-friendly website/app interface   \n",
       "221               Wide product selection   \n",
       "280               Wide product selection   \n",
       "284               Wide product selection   \n",
       "319                   Competitive prices   \n",
       "371                   Competitive prices   \n",
       "378                   Competitive prices   \n",
       "\n",
       "                                     Improvement_Areas  \\\n",
       "22                                                   .   \n",
       "41                                             Nothing   \n",
       "69     better app interface and lower shipping charges   \n",
       "156                                                Nil   \n",
       "177               Add more familiar brands to the list   \n",
       "190                                                 UI   \n",
       "207  Scrolling option would be much better than goi...   \n",
       "218  Quality of product is very poor according to t...   \n",
       "221  I have no problem with Amazon yet. But others ...   \n",
       "280                                    User interface    \n",
       "284                     Irrelevant product suggestions   \n",
       "319                              User interface of app   \n",
       "371               I don't have any problem with Amazon   \n",
       "378                            No problems with Amazon   \n",
       "\n",
       "     Main_Improvement_Areas+Others  \n",
       "22                          Others  \n",
       "41                          Others  \n",
       "69                          Others  \n",
       "156                         Others  \n",
       "177                         Others  \n",
       "190                         Others  \n",
       "207                         Others  \n",
       "218                         Others  \n",
       "221                         Others  \n",
       "280                         Others  \n",
       "284                         Others  \n",
       "319                         Others  \n",
       "371                         Others  \n",
       "378                         Others  \n",
       "\n",
       "[14 rows x 24 columns]"
      ]
     },
     "metadata": {},
     "output_type": "display_data"
    }
   ],
   "source": [
    "df['Main_Improvement_Areas+Others'] = df['Improvement_Areas'].apply(lambda imprv: 'Others' \\\n",
    "                                                                    if imprv not in main_imprvmt_areas \\\n",
    "                                                                    else imprv)\n",
    "display(df[df['Main_Improvement_Areas+Others'] == 'Others'])"
   ]
  },
  {
   "cell_type": "code",
   "execution_count": 19,
   "id": "bc506de5",
   "metadata": {},
   "outputs": [
    {
     "data": {
      "image/png": "[encoded data removed]",
      "text/plain": [
       "<Figure size 640x480 with 1 Axes>"
      ]
     },
     "metadata": {},
     "output_type": "display_data"
    }
   ],
   "source": [
    "imprv_count = df['Main_Improvement_Areas+Others'].value_counts()\n",
    "def data_label(pct, data):\n",
    "    value = int(np.round((pct/100)*np.sum(data)))\n",
    "    return f\"{value} ({pct:.2f}%)\"\n",
    "plt.pie(x=imprv_count.values, autopct=lambda pct: data_label(pct, imprv_count.values))\n",
    "plt.legend(imprv_count.index, \n",
    "           title='Improvement Areas', \n",
    "           loc=\"center left\", \n",
    "           bbox_to_anchor=(1,0,0.5,1))\n",
    "plt.show()"
   ]
  },
  {
   "cell_type": "markdown",
   "id": "0cdbe3e5",
   "metadata": {},
   "source": [
    "*As stated in the countplot above about what do they enjoy the most about Amazon's services, \n",
    "customer service (36.05%) is not Amazon's greatest service, followed by product quality and accuracy (26.41%), \n",
    "reducing packaging waste (22.09%), shipping speed and reliability (13.12%), and others (2.33%).*"
   ]
  },
  {
   "cell_type": "markdown",
   "id": "a1b4ff66",
   "metadata": {},
   "source": [
    "Create a heatmap to show the relationship browsing frequency and cart completion frequency.\n",
    "Restructure the DataFrame first by making the Cart_Completion_Frequency as column and Browsing_Frequency as the index.\n",
    "\n",
    "Select a single column ('Timestamp') to get only one piece of information (if this will not be added, this will loop through all columns containing the same values for Cart_Completion_Frequency and Browsing_Frequency).\n",
    "\n",
    "There is a null value between 'Multiple times a day' and 'Never'. Change the value to 0."
   ]
  },
  {
   "cell_type": "code",
   "execution_count": 20,
   "id": "43ee5956",
   "metadata": {},
   "outputs": [
    {
     "data": {
      "text/html": [
       "<div>\n",
       "<style scoped>\n",
       "    .dataframe tbody tr th:only-of-type {\n",
       "        vertical-align: middle;\n",
       "    }\n",
       "\n",
       "    .dataframe tbody tr th {\n",
       "        vertical-align: top;\n",
       "    }\n",
       "\n",
       "    .dataframe thead th {\n",
       "        text-align: right;\n",
       "    }\n",
       "</style>\n",
       "<table border=\"1\" class=\"dataframe\">\n",
       "  <thead>\n",
       "    <tr style=\"text-align: right;\">\n",
       "      <th>Cart_Completion_Frequency</th>\n",
       "      <th>Always</th>\n",
       "      <th>Never</th>\n",
       "      <th>Often</th>\n",
       "      <th>Rarely</th>\n",
       "      <th>Sometimes</th>\n",
       "    </tr>\n",
       "    <tr>\n",
       "      <th>Browsing_Frequency</th>\n",
       "      <th></th>\n",
       "      <th></th>\n",
       "      <th></th>\n",
       "      <th></th>\n",
       "      <th></th>\n",
       "    </tr>\n",
       "  </thead>\n",
       "  <tbody>\n",
       "    <tr>\n",
       "      <th>Few times a month</th>\n",
       "      <td>10.0</td>\n",
       "      <td>3.0</td>\n",
       "      <td>45.0</td>\n",
       "      <td>25.0</td>\n",
       "      <td>116.0</td>\n",
       "    </tr>\n",
       "    <tr>\n",
       "      <th>Few times a week</th>\n",
       "      <td>19.0</td>\n",
       "      <td>7.0</td>\n",
       "      <td>73.0</td>\n",
       "      <td>24.0</td>\n",
       "      <td>126.0</td>\n",
       "    </tr>\n",
       "    <tr>\n",
       "      <th>Multiple times a day</th>\n",
       "      <td>13.0</td>\n",
       "      <td>0.0</td>\n",
       "      <td>30.0</td>\n",
       "      <td>2.0</td>\n",
       "      <td>32.0</td>\n",
       "    </tr>\n",
       "    <tr>\n",
       "      <th>Rarely</th>\n",
       "      <td>5.0</td>\n",
       "      <td>11.0</td>\n",
       "      <td>10.0</td>\n",
       "      <td>21.0</td>\n",
       "      <td>30.0</td>\n",
       "    </tr>\n",
       "  </tbody>\n",
       "</table>\n",
       "</div>"
      ],
      "text/plain": [
       "Cart_Completion_Frequency  Always  Never  Often  Rarely  Sometimes\n",
       "Browsing_Frequency                                                \n",
       "Few times a month            10.0    3.0   45.0    25.0      116.0\n",
       "Few times a week             19.0    7.0   73.0    24.0      126.0\n",
       "Multiple times a day         13.0    0.0   30.0     2.0       32.0\n",
       "Rarely                        5.0   11.0   10.0    21.0       30.0"
      ]
     },
     "metadata": {},
     "output_type": "display_data"
    }
   ],
   "source": [
    "byBrowsingAndCompletion = df.groupby(['Browsing_Frequency', 'Cart_Completion_Frequency'])['Timestamp'].count()\n",
    "pivot_data = byBrowsingAndCompletion.unstack(level=-1).fillna(0)\n",
    "display(pivot_data)"
   ]
  },
  {
   "cell_type": "code",
   "execution_count": 21,
   "id": "0feb336d",
   "metadata": {},
   "outputs": [
    {
     "data": {
      "image/png": "[encoded data removed]",
      "text/plain": [
       "<Figure size 640x480 with 2 Axes>"
      ]
     },
     "metadata": {},
     "output_type": "display_data"
    }
   ],
   "source": [
    "sns.heatmap(pivot_data, cmap='magma')\n",
    "plt.show()"
   ]
  },
  {
   "cell_type": "markdown",
   "id": "655e0490",
   "metadata": {},
   "source": [
    "*Based on the heatmap, Amazon customers tend to buy a product they've added to their carts if they're browsing a few times a week.\n",
    "Those who rarely browse Amazon web/app sometimes complete a purchase but don't do it most of the time.*"
   ]
  },
  {
   "cell_type": "markdown",
   "id": "4682d577",
   "metadata": {},
   "source": [
    "Create a clustermap from pivot_data"
   ]
  },
  {
   "cell_type": "code",
   "execution_count": 22,
   "id": "b024dcbb",
   "metadata": {},
   "outputs": [
    {
     "data": {
      "image/png": "[encoded data removed]",
      "text/plain": [
       "<Figure size 1000x500 with 4 Axes>"
      ]
     },
     "metadata": {},
     "output_type": "display_data"
    }
   ],
   "source": [
    "sns.clustermap(pivot_data, figsize=(10,5))\n",
    "plt.show()"
   ]
  },
  {
   "cell_type": "markdown",
   "id": "55115f7c",
   "metadata": {},
   "source": [
    "*The browsing frequency is grouped into two, based on the cart completion frequency of Amazon customers. Those who browse few times a month and few times a week tend to buy the product/s in their carts\n",
    "as compared to those who browse multiple times a day and rarely. This is maybe because the customers who aren't frequent in browsing Amazon will only use the web/app just for the purpose of buying a product that they want to buy, as compared to those casual browsers who may be browsing just for fun.*"
   ]
  }
 ],
 "metadata": {
  "kernelspec": {
   "display_name": "Python 3 (ipykernel)",
   "language": "python",
   "name": "python3"
  },
  "language_info": {
   "codemirror_mode": {
    "name": "ipython",
    "version": 3
   },
   "file_extension": ".py",
   "mimetype": "text/x-python",
   "name": "python",
   "nbconvert_exporter": "python",
   "pygments_lexer": "ipython3",
   "version": "3.11.4"
  }
 },
 "nbformat": 4,
 "nbformat_minor": 5
}
